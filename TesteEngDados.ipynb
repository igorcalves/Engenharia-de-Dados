{
 "cells": [
  {
   "cell_type": "code",
   "execution_count": 17,
   "id": "b7bd4c2a-2cf5-419c-a627-bc9612363948",
   "metadata": {},
   "outputs": [],
   "source": [
    "import pandas as pd\n",
    "\n",
    "\n",
    "orders1 = pd.read_csv('Retail_Data_Orders_Merge.csv')\n",
    "orders2 = pd.read_csv('Retail_Data_W23_Merge.csv')\n",
    "orders3 = pd.read_csv('Retail_Unlabeled_Data_Concat.csv')\n",
    "merge = pd.read_csv('Store_Merge.csv')\n",
    "\n",
    "all_orders = pd.concat([orders1, orders2, orders3])\n",
    "\n",
    "final_orders = pd.merge(all_orders, merge, on='Store', how='left')\n",
    "\n",
    "final_orders.to_csv('final_orders.csv', index=False)\n",
    "\n",
    "final_orders\n"
   ]
  },
  {
   "cell_type": "code",
   "execution_count": null,
   "id": "e4619803-d55c-444e-9df7-0c3b736c91e1",
   "metadata": {},
   "outputs": [],
   "source": []
  }
 ],
 "metadata": {
  "kernelspec": {
   "display_name": "Python 3 (ipykernel)",
   "language": "python",
   "name": "python3"
  },
  "language_info": {
   "codemirror_mode": {
    "name": "ipython",
    "version": 3
   },
   "file_extension": ".py",
   "mimetype": "text/x-python",
   "name": "python",
   "nbconvert_exporter": "python",
   "pygments_lexer": "ipython3",
   "version": "3.11.7"
  }
 },
 "nbformat": 4,
 "nbformat_minor": 5
}
